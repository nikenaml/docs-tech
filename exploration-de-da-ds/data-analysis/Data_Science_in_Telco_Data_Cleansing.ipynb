{
 "cells": [
  {
   "cell_type": "raw",
   "id": "7026c502",
   "metadata": {},
   "source": [
    "https://medium.com/swlh/data-engineer-challenge-with-sql-by-dqlab-3a67873b0034\n",
    "\n",
    "https://www.hendra.my.id/2020/09/data-science-in-telco-data-cleansing.html"
   ]
  },
  {
   "cell_type": "raw",
   "id": "96db89ad",
   "metadata": {},
   "source": [
    "Data yang Digunakan\n",
    "Untuk dataset yang digunakan sudah disediakan dalam format csv, silahkan baca melalui fungsi pandas di python df_load = pd.read_csv('https://storage.googleapis.com/dqlab-dataset/dqlab_telco.csv')\n",
    "\n",
    " \n",
    "Untuk detail datanya adalah sebagai berikut:\n",
    "\n",
    "UpdatedAt Periode of Data taken\n",
    "customerID Customer ID\n",
    "gender Whether the customer is a male or a female (Male, Female)\n",
    "SeniorCitizen Whether the customer is a senior citizen or not (1, 0)\n",
    "Partner Whether the customer has a partner or not (Yes, No)\n",
    "Dependents Whether the customer has dependents or not (Yes, No)\n",
    "tenure Number of months the customer has stayed with the company\n",
    "PhoneService Whether the customer has a phone service or not (Yes, No)\n",
    "MultipleLines Whether the customer has multiple lines or not (Yes, No, No phone service)\n",
    "InternetService Customer’s internet service provider (DSL, Fiber optic, No)\n",
    "OnlineSecurity Whether the customer has online security or not (Yes, No, No internet service)\n",
    "OnlineBackup Whether the customer has online backup or not (Yes, No, No internet service)\n",
    "DeviceProtection Whether the customer has device protection or not (Yes, No, No internet service)\n",
    "TechSupport Whether the customer has tech support or not (Yes, No, No internet service)\n",
    "StreamingTV Whether the customer has streaming TV or not (Yes, No, No internet service)\n",
    "StreamingMovies Whether the customer has streaming movies or not (Yes, No, No internet service)\n",
    "Contract The contract term of the customer (Month-to-month, One year, Two year)\n",
    "PaperlessBilling Whether the customer has paperless billing or not (Yes, No)\n",
    "PaymentMethod The customer’s payment method (Electronic check, Mailed check, Bank transfer (automatic), Credit card (automatic))\n",
    "MonthlyCharges The amount charged to the customer monthly\n",
    "TotalCharges The total amount charged to the customer\n",
    "Churn Whether the customer churned or not (Yes or No)"
   ]
  },
  {
   "cell_type": "markdown",
   "id": "cae86611",
   "metadata": {},
   "source": [
    "#### Memfilter ID Number Pelanggan Format Tertentu"
   ]
  },
  {
   "cell_type": "code",
   "execution_count": null,
   "id": "991407d1",
   "metadata": {},
   "outputs": [],
   "source": [
    "import pandas as pd\n",
    "df_load = pd.read_csv('https://storage.googleapis.com/dqlab-dataset/dqlab_telco.csv')\n",
    "\n",
    "df_load['valid_id'] = df_load['customerID'].astype(str).str.match(r'(45\\d{9,10})')\n",
    "df_load"
   ]
  },
  {
   "cell_type": "code",
   "execution_count": null,
   "id": "f9be8537",
   "metadata": {},
   "outputs": [],
   "source": [
    "df_load = (df_load[df_load['valid_id'] == True]).drop('valid_id', axis = 1)\n",
    "print('Hasil jumlah ID Customer yang terfilter adalah', df_load['customerID'].count())\n",
    "df_load"
   ]
  },
  {
   "cell_type": "markdown",
   "id": "5d97788c",
   "metadata": {},
   "source": [
    "#### Memfilter Duplikasi ID Number Pelanggan"
   ]
  },
  {
   "cell_type": "code",
   "execution_count": null,
   "id": "ec5f1466",
   "metadata": {},
   "outputs": [],
   "source": [
    "# Drop Duplicate Rows\n",
    "df_load.drop_duplicates()\n",
    "# Drop duplicate ID sorted by Periode\n",
    "df_load = df_load.sort_values('UpdatedAt', ascending = False).drop_duplicates(['customerID'])\n",
    "print('Hasil jumlah ID Customer yang sudah dihilangkan duplikasinya (distinct) adalah',df_load['customerID'].count())"
   ]
  },
  {
   "cell_type": "code",
   "execution_count": null,
   "id": "ae8d223d",
   "metadata": {},
   "outputs": [],
   "source": [
    "df_load"
   ]
  },
  {
   "cell_type": "markdown",
   "id": "e58e5f00",
   "metadata": {},
   "source": [
    "#### Mengatasi Missing Values dengan Penghapusan Rows"
   ]
  },
  {
   "cell_type": "code",
   "execution_count": null,
   "id": "581c456a",
   "metadata": {},
   "outputs": [],
   "source": [
    "print('Total missing value data dari kolom Churn', df_load['Churn'].isnull().sum())\n",
    "# Dropping all Rows with spesific column (churn)\n",
    "df_load.dropna(subset=['Churn'], inplace=True)\n",
    "print('Total Rows dan kolom Data setelah dihapus data Missing Values adalah', df_load.shape)"
   ]
  },
  {
   "cell_type": "markdown",
   "id": "0333f8f7",
   "metadata": {},
   "source": [
    "#### Mengatasi Missing Values dengan Pengisian Nilai tertentu"
   ]
  },
  {
   "cell_type": "code",
   "execution_count": null,
   "id": "9fb40eb8",
   "metadata": {},
   "outputs": [],
   "source": [
    "print('Status Missing Values :',df_load.isnull().values.any())\n",
    "print('\\nJumlah Missing Values masing-masing kolom, adalah:')\n",
    "print(df_load.isnull().sum().sort_values(ascending=False))"
   ]
  },
  {
   "cell_type": "code",
   "execution_count": null,
   "id": "a7d6c68b",
   "metadata": {},
   "outputs": [],
   "source": [
    "#handling missing values Tenure fill with 11\n",
    "df_load['tenure'].fillna(11, inplace=True)\n",
    "\n",
    "#Loop\n",
    "#Handling missing values num vars (except Tenure)\n",
    "for col_name in list(['MonthlyCharges','TotalCharges']):\n",
    "    #write your command here\n",
    "\tmedian = df_load[col_name].median()\n",
    "\tdf_load[col_name].fillna(median, inplace=True)\n",
    "print('\\nJumlah Missing Values setelah di imputer datanya, adalah:')\n",
    "print(df_load.isnull().sum().sort_values(ascending=False))"
   ]
  },
  {
   "cell_type": "markdown",
   "id": "12a8fd09",
   "metadata": {},
   "source": [
    "#### Mendeteksi adanya Outlier (Boxplot)"
   ]
  },
  {
   "cell_type": "code",
   "execution_count": null,
   "id": "760eb8ff",
   "metadata": {},
   "outputs": [],
   "source": [
    "print('\\nPersebaran data sebelum ditangani Outlier: ')\n",
    "print(df_load[['tenure','MonthlyCharges','TotalCharges']].describe())\n",
    "\n",
    "# Creating Box Plot\n",
    "import matplotlib.pyplot as plt\n",
    "import seaborn as sns\n",
    "\n",
    "# Misal untuk kolom tenure\n",
    "plt.figure()\n",
    "sns.boxplot(x=df_load['tenure'])\n",
    "plt.show()\n",
    "# dan seterusnya untuk kedua kolom yang tersisa secara berurut\n",
    "\n",
    "plt.figure()\n",
    "sns.boxplot(x=df_load['MonthlyCharges'])\n",
    "plt.show()\n",
    "\n",
    "plt.figure()\n",
    "sns.boxplot(x=df_load['TotalCharges'])\n",
    "plt.show()"
   ]
  },
  {
   "cell_type": "markdown",
   "id": "84362988",
   "metadata": {},
   "source": [
    "#### Mengatasi Outlier"
   ]
  },
  {
   "cell_type": "code",
   "execution_count": null,
   "id": "eec3e21a",
   "metadata": {},
   "outputs": [],
   "source": [
    "# Handling with IQR\n",
    "Q1 = (df_load[['tenure','MonthlyCharges','TotalCharges']]).quantile(0.25)\n",
    "Q3 = (df_load[['tenure','MonthlyCharges','TotalCharges']]).quantile(0.75)\n",
    "\n",
    "IQR = Q3-Q1\n",
    "\n",
    "maximum = Q3 + (1.5*IQR)\n",
    "print('Nilai Maximum dari masing-masing Variable adalah: ')\n",
    "print(maximum)\n",
    "minimum = Q1 - (1.5*IQR)\n",
    "print('\\nNilai Minimum dari masing-masing Variable adalah: ')\n",
    "print(minimum)\n",
    "more_than = (df_load > maximum)\n",
    "lower_than = (df_load < minimum)\n",
    "df_load = df_load.mask(more_than, maximum, axis=1)\n",
    "df_load = df_load.mask(lower_than, minimum, axis = 1)\n",
    "print('\\nPersebaran data setelah ditangani Outlier: ')\n",
    "print(df_load[['tenure','MonthlyCharges','TotalCharges']].describe())"
   ]
  },
  {
   "cell_type": "markdown",
   "id": "538f894b",
   "metadata": {},
   "source": [
    "#### Mendeteksi Nilai yang tidak Standar"
   ]
  },
  {
   "cell_type": "code",
   "execution_count": null,
   "id": "18a32b10",
   "metadata": {},
   "outputs": [],
   "source": [
    "#Loop\n",
    "for col_name in list(['gender','SeniorCitizen','Partner','Dependents','PhoneService','MultipleLines','InternetService','OnlineSecurity','OnlineBackup','DeviceProtection','TechSupport','StreamingTV','StreamingMovies','Contract','PaperlessBilling','PaymentMethod','Churn']):\n",
    "\tprint('\\nUnique Values Count \\033[1m' + 'Before Standardized \\033[0m Variable', col_name)\n",
    "\tprint(df_load[col_name].value_counts())"
   ]
  },
  {
   "cell_type": "markdown",
   "id": "52e30b53",
   "metadata": {},
   "source": [
    "#### Menstandarisasi Variable Kategorik"
   ]
  },
  {
   "cell_type": "code",
   "execution_count": null,
   "id": "af310283",
   "metadata": {},
   "outputs": [],
   "source": [
    "df_load = df_load.replace(['Wanita','Laki-Laki','Churn','Iya'],['Female','Male','Yes','Yes'])\n",
    "# Masukkan variable\n",
    "for col_name in list(['gender','Dependents','Churn']):\n",
    "\tprint('\\nUnique Values Count \\033[1m' + 'After Standardized \\033[0mVariable',col_name)\n",
    "\tprint(df_load[col_name].value_counts())"
   ]
  }
 ],
 "metadata": {
  "kernelspec": {
   "display_name": "Python [conda env:jcop]",
   "language": "python",
   "name": "conda-env-jcop-py"
  },
  "language_info": {
   "codemirror_mode": {
    "name": "ipython",
    "version": 3
   },
   "file_extension": ".py",
   "mimetype": "text/x-python",
   "name": "python",
   "nbconvert_exporter": "python",
   "pygments_lexer": "ipython3",
   "version": "3.7.6"
  },
  "varInspector": {
   "cols": {
    "lenName": 16,
    "lenType": 16,
    "lenVar": 40
   },
   "kernels_config": {
    "python": {
     "delete_cmd_postfix": "",
     "delete_cmd_prefix": "del ",
     "library": "var_list.py",
     "varRefreshCmd": "print(var_dic_list())"
    },
    "r": {
     "delete_cmd_postfix": ") ",
     "delete_cmd_prefix": "rm(",
     "library": "var_list.r",
     "varRefreshCmd": "cat(var_dic_list()) "
    }
   },
   "types_to_exclude": [
    "module",
    "function",
    "builtin_function_or_method",
    "instance",
    "_Feature"
   ],
   "window_display": false
  }
 },
 "nbformat": 4,
 "nbformat_minor": 5
}
