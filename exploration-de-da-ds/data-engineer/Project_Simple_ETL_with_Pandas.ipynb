{
 "cells": [
  {
   "cell_type": "raw",
   "id": "5f88648d",
   "metadata": {},
   "source": [
    "https://www.kaggle.com/code/rafifarraskusuma/data-competition-elimination/notebook"
   ]
  },
  {
   "cell_type": "raw",
   "id": "c7da0d07",
   "metadata": {},
   "source": [
    "Pengantar\n",
    "Di masa pandemi seperti ini, kompetisi coding seperti Competitive Programming maupun Hackathon banyak diselenggarakan karena sangat memungkinkan untuk dilakukan secara online.\n",
    "\n",
    "Hackathon merupakan kompetisi membuat perangkat lunak (software) yang dilaksanakan secara marathon yang biasanya diikuti secara tim. Umumnya, peserta hackathon diminta untuk mengembangkan platform (mobile, web, desktop, dll.) dalam kurun waktu tertentu untuk menyelesaikan permasalahan yang sudah ditetapkan/didefinisikan oleh penyelenggara ataupun berdasarkan tema yang dipilih oleh tim tersebut.\n",
    "\n",
    "Untuk bisa mengikuti hackathon dari suatu instansi, calon peserta diwajibkan untuk mendaftarkan diri mereka pada situs/form tertentu dengan memasukkan beberapa informasi yang diminta oleh penyelenggara tersebut.\n",
    "\n",
    " \n",
    "\n",
    "Extract, Transform dan Load (ETL) merupakan kumpulan proses untuk \"memindahkan\" data dari satu tempat ke tempat lain.\n",
    "Tempat yang dimaksud adalah dari sumber data (bisa berupa database aplikasi, file, logs, database dari 3rd party, dan lainnya) ke data warehouse.\n",
    "\n",
    "Apa itu data warehouse?\n",
    "\n",
    "Singkatnya, data warehouse merupakan database yang berisi data-data (tabel-tabel) yang sudah siap untuk dilakukan analisis oleh Data Analyst maupun Data Scientist.\n",
    "\n",
    "Lebih lengkapnya bisa dilihat di:\n",
    "https://en.wikipedia.org/wiki/Data_warehouse.\n",
    "\n",
    "Pada modul ini kita akan mempelajari masing-masing dari proses tersebut."
   ]
  },
  {
   "cell_type": "raw",
   "id": "127f8cfe",
   "metadata": {},
   "source": [
    "Project yang Akan Dikerjakan\n",
    "Pada proyek kali ini, Anda diminta untuk mengolah data pendaftar hackathon yang diselenggarakan oleh DQLab bernama DQThon.\n",
    "\n",
    "Dataset ini terdiri dari 5000 baris data (5000 pendaftar) dengan format CSV (Comma-separated values) dan memiliki beberapa kolom diantaranya:\n",
    "\n",
    "participant_id: ID dari peserta/partisipan hackathon. Kolom ini bersifat unique sehingga antar peserta pasti memiliki ID yang berbeda\n",
    "first_name: nama depan peserta\n",
    "last_name: nama belakang peserta\n",
    "birth_date: tanggal lahir peserta\n",
    "address: alamat tempat tinggal peserta\n",
    "phone_number: nomor hp/telepon peserta\n",
    "country: negara asal peserta\n",
    "institute: institusi peserta saat ini, bisa berupa nama perusahaan maupun nama universitas\n",
    "occupation: pekerjaan peserta saat ini\n",
    "register_time: waktu peserta melakukan pendaftaran hackathon dalam second\n",
    "Namun pada proyek ini nantinya Anda diminta untuk menghasilkan beberapa kolom dengan memanfaatkan kolom-kolom yang ada, sehingga akhir dari proyek ini berupa hasil transformasi data dengan beberapa kolom baru selain dari 10 kolom diatas.\n",
    "\n",
    "Sebagai pemanasan dalam proyek ini, Anda dipersilakan untuk membuka isi datasetnya dan melihat values-nya. Jika sudah siap dengan perjalanan di proyek ini, silakan klik Next. "
   ]
  },
  {
   "cell_type": "code",
   "execution_count": 1,
   "id": "24aafc55",
   "metadata": {},
   "outputs": [],
   "source": [
    "import numpy as np # linear algebra\n",
    "import pandas as pd # data processing, CSV file I/O (e.g. pd.read_csv)"
   ]
  },
  {
   "cell_type": "code",
   "execution_count": 3,
   "id": "5ac915c4",
   "metadata": {},
   "outputs": [],
   "source": [
    "df_participant = pd.read_csv('https://storage.googleapis.com/dqlab-dataset/dqthon-participants.csv')"
   ]
  },
  {
   "cell_type": "raw",
   "id": "5aba10d2",
   "metadata": {},
   "source": [
    "Transform Bagian I - Kode Pos\n",
    "Ada permintaan datang dari tim logistik bahwa mereka membutuhkan kode pos dari peserta agar pengiriman piala lebih mudah dan cepat sampai. Maka dari itu buatlah kolom baru bernama postal_code yang memuat informasi mengenai kode pos yang diambil dari alamat peserta (kolom address).\n",
    "\n",
    "Diketahui bahwa kode pos berada di paling akhir dari alamat tersebut.\n",
    "\n",
    "Note:\n",
    "Jika regex yang dimasukkan tidak bisa menangkap pattern dari value kolom address maka akan menghasilkan NaN."
   ]
  },
  {
   "cell_type": "code",
   "execution_count": null,
   "id": "ecab6d0c",
   "metadata": {},
   "outputs": [],
   "source": [
    "df_participant['address'].head()"
   ]
  },
  {
   "cell_type": "code",
   "execution_count": 4,
   "id": "4fd80560",
   "metadata": {},
   "outputs": [
    {
     "data": {
      "text/plain": [
       "0    80734\n",
       "1    09434\n",
       "2    57739\n",
       "3    76156\n",
       "4    70074\n",
       "Name: postal_code, dtype: object"
      ]
     },
     "execution_count": 4,
     "metadata": {},
     "output_type": "execute_result"
    }
   ],
   "source": [
    "# Transform Postal Code\n",
    "df_participant['postal_code'] = df_participant['address'].str.extract(r'(\\d+)$') #Masukkan regex Anda didalam fungsi extract\n",
    "df_participant['postal_code'].head()"
   ]
  },
  {
   "cell_type": "raw",
   "id": "ae16ed9b",
   "metadata": {},
   "source": [
    "Transform Bagian II - Kota\n",
    "Selain kode pos, mereka juga membutuhkan kota dari peserta.\n",
    "\n",
    "Untuk menyediakan informasi tersebut, buatlah kolom baru bernama city yang didapat dari kolom address. Diasumsikan bahwa kota merupakan sekumpulan karakter yang terdapat setelah nomor jalan diikuti dengan \\n (newline character) atau dalam bahasa lainnya yaitu enter."
   ]
  },
  {
   "cell_type": "code",
   "execution_count": null,
   "id": "c25d1cd7",
   "metadata": {},
   "outputs": [],
   "source": [
    "# Transform City\n",
    "df_participant['city'] = df_participant['address'].str.extract(r'(?<=\\n)(\\w.+)(?=,)') \n",
    "df_participant['city'].head()"
   ]
  },
  {
   "cell_type": "raw",
   "id": "8c6c55c6",
   "metadata": {},
   "source": [
    "Transform Bagian III - Github\n",
    "Salah satu parameter untuk mengetahui proyek apa saja yang pernah dikerjakan oleh peserta yaitu dari git repository mereka.\n",
    "\n",
    "Pada kasus ini kita menggunakan profil github sebagai parameternya. Tugas Anda yaitu membuat kolom baru bernama github_profile yang merupakan link profil github dari peserta.\n",
    "\n",
    "Diketahui bahwa profil github mereka merupakan gabungan dari first_name dan last_name yang sudah di-lowercase. "
   ]
  },
  {
   "cell_type": "code",
   "execution_count": null,
   "id": "9cb340ab",
   "metadata": {},
   "outputs": [],
   "source": [
    "# Transform Github Profile\n",
    "df_participant['github_profile'] = 'https://github.com/' + df_participant['first_name'].str.lower() + df_participant['last_name'].str.lower()\n",
    "df_participant['github_profile'].head()"
   ]
  },
  {
   "cell_type": "raw",
   "id": "c07aec55",
   "metadata": {},
   "source": [
    "Transform Bagian IV - Nomor Handphone\n",
    "Jika kita lihat kembali, ternyata nomor handphone yang ada pada data csv kita memiliki format yang berbeda-beda. Maka dari itu, kita perlu untuk melakukan cleansing pada data nomor handphone agar memiliki format yang sama. Anda sebagai Data Engineer diberi privilege untuk menentukan format nomor handphone yang benar. Pada kasus ini mari kita samakan formatnya dengan aturan:\n",
    "\n",
    "Jika awalan nomor HP berupa angka 62 atau +62 yang merupakan kode telepon Indonesia, maka diterjemahkan ke 0.\n",
    "Tidak ada tanda baca seperti kurung buka, kurung tutup, strip⟶ ()-\n",
    "Tidak ada spasi pada nomor HP nama kolom untuk menyimpan hasil cleansing pada nomor HP yaitu cleaned_phone_number"
   ]
  },
  {
   "cell_type": "code",
   "execution_count": null,
   "id": "7a94f665",
   "metadata": {},
   "outputs": [],
   "source": [
    "df_participant['phone_number'].head()"
   ]
  },
  {
   "cell_type": "code",
   "execution_count": null,
   "id": "5561cbe6",
   "metadata": {},
   "outputs": [],
   "source": [
    "# Transform Phone Number\n",
    "df_participant['cleaned_phone_number'] = df_participant['phone_number'].str.replace(r'^(\\+62|62)', '0')\n",
    "df_participant['cleaned_phone_number'] = df_participant['cleaned_phone_number'].str.replace(r'[()-]', '')\n",
    "df_participant['cleaned_phone_number'] = df_participant['cleaned_phone_number'].str.replace(r'\\s+', '')\n",
    "df_participant['cleaned_phone_number'].head()"
   ]
  },
  {
   "cell_type": "raw",
   "id": "6055d27b",
   "metadata": {},
   "source": [
    "Transform Bagian V - Nama Tim\n",
    "Dataset saat ini belum memuat nama tim, dan rupanya dari tim Data Analyst membutuhkan informasi terkait nama tim dari masing-masing peserta.\n",
    "\n",
    "Diketahui bahwa nama tim merupakan gabungan nilai dari kolom first_name, last_name, country dan institute.\n",
    "\n",
    "Tugas Anda yakni buatlah kolom baru dengan nama team_name yang memuat informasi nama tim dari peserta."
   ]
  },
  {
   "cell_type": "code",
   "execution_count": null,
   "id": "17b102b9",
   "metadata": {},
   "outputs": [],
   "source": [
    "def func(col):\n",
    "    abbrev_name = \"%s%s\"%(col['first_name'][0],col['last_name'][0])\n",
    "    country = col['country']\n",
    "    abbrev_institute = '%s'%(''.join(list(map(lambda word: word[0], col['institute'].split()))))\n",
    "    return \"%s-%s-%s\"%(abbrev_name,country,abbrev_institute)\n",
    "df_participant['team_name'] = df_participant.apply(func, axis=1)\n",
    "df_participant['team_name'].head()"
   ]
  },
  {
   "cell_type": "raw",
   "id": "e0e4d6f5",
   "metadata": {},
   "source": [
    "Transform Bagian VI - Email\n",
    "Setelah dilihat kembali dari data peserta yang dimiliki, ternyata ada satu informasi yang penting namun belum tersedia, yaitu email.\n",
    "\n",
    "Anda sebagai Data Engineer diminta untuk menyediakan informasi email dari peserta dengan aturan bahwa format email sebagai berikut:\n",
    "\n",
    "Format email:\n",
    "xxyy@aa.bb.[ac/com].[cc]\n",
    "\n",
    "Keterangan:\n",
    "xx -> nama depan (first_name) dalam lowercase\n",
    "yy -> nama belakang (last_name) dalam lowercase\n",
    "aa -> nama institusi\n",
    "\n",
    "Untuk nilai bb, dan cc mengikuti nilai dari aa. Aturannya:\n",
    "- Jika institusi nya merupakan Universitas, maka\n",
    "  bb -> gabungan dari huruf pertama pada setiap kata dari nama Universitas dalam lowercase\n",
    "  Kemudian, diikuti dengan .ac yang menandakan akademi/institusi belajar dan diikuti dengan pattern cc\n",
    "- Jika institusi bukan merupakan Universitas, maka\n",
    "  bb -> gabungan dari huruf pertama pada setiap kata dari nama Universitas dalam lowercase\n",
    "  Kemudian, diikuti dengan .com. Perlu diketahui bahwa pattern cc tidak berlaku pada kondisi ini\n",
    "\n",
    "cc -> merupakan negara asal peserta, adapun aturannya:\n",
    "- Jika banyaknya kata pada negara tersebut lebih dari 1 maka ambil singkatan dari negara tersebut dalam lowercase\n",
    "- Namun, jika banyaknya kata hanya 1 maka ambil 3 huruf terdepan dari negara tersebut dalam lowercase\n",
    "\n",
    "Contoh:\n",
    "  Nama depan: Citra\n",
    "  Nama belakang: Nurdiyanti\n",
    "  Institusi: UD Prakasa Mandasari\n",
    "  Negara: Georgia\n",
    "  Maka,Email nya: citranurdiyanti@upm.geo\n",
    "  -----------------------------------\n",
    "  Nama depan: Aris\n",
    "  Nama belakang: Setiawan\n",
    "  Institusi: Universitas Diponegoro\n",
    "  Negara: Korea Utara\n",
    "  Maka, Email nya: arissetiawan@ud.ac.ku "
   ]
  },
  {
   "cell_type": "code",
   "execution_count": null,
   "id": "a950f5e2",
   "metadata": {},
   "outputs": [],
   "source": [
    "def func(col):\n",
    "    first_name_lower = col['first_name'].lower()\n",
    "    last_name_lower = col['last_name'].lower()\n",
    "    institute = ''.join(list(map(lambda word: word[0], col['institute'].lower().split())))\n",
    "    \n",
    "    if 'Universitas' in col['institute']:\n",
    "        if len(col['country'].split()) > 1:\n",
    "            country = ''.join(list(map(lambda word: word[0], col['country'].lower().split())))\n",
    "        else:\n",
    "            country = col['country'][:3].lower()\n",
    "        return \"%s%s@%s.ac.%s\"%(first_name_lower,last_name_lower,institute,country)\n",
    "        \n",
    "    return \"%s%s@%s.com\"%(first_name_lower,last_name_lower,institute)\n",
    "    \n",
    "df_participant['email'] = df_participant.apply(func, axis=1)\n",
    "df_participant['email'].head()"
   ]
  },
  {
   "cell_type": "raw",
   "id": "65bf9ef9",
   "metadata": {},
   "source": [
    "https://pandas.pydata.org/pandas-docs/version/0.21/generated/pandas.to_datetime.html\n",
    "\n",
    "Transform Bagian VII - Tanggal Lahir\n",
    "MySQL merupakan salah satu database yang sangat populer dan digunakan untuk menyimpan data berupa tabel, termasuk data hasil pengolahan yang sudah kita lakukan ini nantinya bisa dimasukkan ke MySQL.\n",
    "\n",
    "Meskipun begitu, ada suatu aturan dari MySQL terkait format tanggal yang bisa mereka terima yaitu YYYY-MM-DD dengan keterangan:\n",
    "\n",
    "YYYY: 4 digit yang menandakan tahun\n",
    "MM: 2 digit yang menandakan bulan\n",
    "DD: 2 digit yang menandakan tanggal\n",
    "Contohnya yaitu: 2021-04-07\n",
    "\n",
    "Jika kita lihat kembali pada kolom tanggal lahir terlihat bahwa nilainya belum sesuai dengan format DATE dari MySQL\n",
    "\n",
    "(Lihat lebih detail di: https://www.mysqltutorial.org/mysql-date/).\n",
    "\n",
    "Oleh karena itu, lakukanlah formatting terhadap kolom birth_date menjadi YYYY-MM-DD dan simpan di kolom yang sama."
   ]
  },
  {
   "cell_type": "code",
   "execution_count": 5,
   "id": "c6794570",
   "metadata": {},
   "outputs": [
    {
     "data": {
      "text/plain": [
       "0    05 Feb 1991\n",
       "1    11 Jan 1993\n",
       "2    31 Jul 1993\n",
       "3    04 Nov 1991\n",
       "4    22 Jan 2003\n",
       "Name: birth_date, dtype: object"
      ]
     },
     "execution_count": 5,
     "metadata": {},
     "output_type": "execute_result"
    }
   ],
   "source": [
    "df_participant['birth_date'].head()"
   ]
  },
  {
   "cell_type": "code",
   "execution_count": 12,
   "id": "8dad9628",
   "metadata": {},
   "outputs": [
    {
     "data": {
      "text/plain": [
       "0   1991-02-05\n",
       "1   1993-01-11\n",
       "2   1993-07-31\n",
       "3   1991-11-04\n",
       "4   2003-01-22\n",
       "Name: birth_date, dtype: datetime64[ns]"
      ]
     },
     "execution_count": 12,
     "metadata": {},
     "output_type": "execute_result"
    }
   ],
   "source": [
    "df_participant['birth_date'] = pd.to_datetime(df_participant['birth_date'], format='%d %b %Y')\n",
    "df_participant['birth_date'].head()"
   ]
  },
  {
   "cell_type": "raw",
   "id": "8cb207b2",
   "metadata": {},
   "source": [
    "Transform Bagian VII - Tanggal Daftar Kompetisi\n",
    "Selain punya aturan mengenai format DATE, MySQL juga memberi aturan pada data yang bertipe DATETIME yaitu YYYY-MM-DD HH:mm:ss dengan keterangan:\n",
    "\n",
    "YYYY: 4 digit yang menandakan tahun\n",
    "MM: 2 digit yang menandakan bulan\n",
    "DD: 2 digit yang menandakan tanggal\n",
    "HH: 2 digit yang menandakan jam\n",
    "mm: 2 digit yang menandakan menit\n",
    "ss: 2 digit yang menandakan detik\n",
    "Contohnya yaitu: 2021-04-07 15:10:55\n",
    "\n",
    "Karena data kita mengenai waktu registrasi peserta (register_time) belum sesuai format yang seharusnya.\n",
    "\n",
    "Maka dari itu, tugas Anda yaitu untuk merubah register_time ke format DATETIME sesuai dengan aturan dari MySQL.\n",
    "\n",
    "Simpanlah hasil tersebut ke kolom register_at."
   ]
  },
  {
   "cell_type": "code",
   "execution_count": null,
   "id": "d3c9bfe9",
   "metadata": {},
   "outputs": [],
   "source": [
    "df_participant['register_at'] = pd.to_datetime(df_participant['register_time'], unit='s')"
   ]
  },
  {
   "cell_type": "raw",
   "id": "4a3dcfbb",
   "metadata": {},
   "source": [
    "Kesimpulan\n",
    "Dengan begitu, tibalah kita di penghujung dari chapter bagian transform ini.\n",
    "\n",
    "Jika dilihat kembali, dataset Anda saat ini sudah berbeda dengan saat proses extract sebelumnya. Ada beberapa kolom tambahan yang memanfaatkan nilai kolom lain.\n",
    "\n",
    "Dataset Anda saat ini memuat kolom:\n",
    "\n",
    "participant_id: ID dari peserta/partisipan hackathon. Kolom ini bersifat unique sehingga antar peserta pasti memiliki ID yang berbeda\n",
    "first_name: nama depan peserta\n",
    "last_name: nama belakang peserta\n",
    "birth_date: tanggal lahir peserta (sudah diformat ke YYYY-MM-DD)\n",
    "address: alamat tempat tinggal peserta\n",
    "phone_number: nomor hp/telepon peserta\n",
    "country: negara asal peserta\n",
    "institute: institusi peserta saat ini, bisa berupa nama perusahaan maupun nama universitas\n",
    "occupation: pekerjaan peserta saat ini\n",
    "register_time: waktu peserta melakukan pendaftaran hackathon dalam second\n",
    "team_name: nama tim peserta (gabungan dari nama depan, nama belakang, negara dan institusi)\n",
    "postal_code: kode pos alamat peserta (diambil dari kolom alamat)\n",
    "city: kota peserta (diambil dari kolom alamat)\n",
    "github_profile: link profil github peserta (gabungan dari nama depan, dan nama belakang)\n",
    "email: alamat email peserta (gabungan dari nama depan, nama belakang, institusi dan negara)\n",
    "cleaned_phone_number: nomor hp/telepon peserta (sudah lebih sesuai dengan format nomor telepon)\n",
    "register_at: tanggal dan waktu peserta melakukan pendaftaran (sudah dalam format DATETIME)"
   ]
  },
  {
   "cell_type": "markdown",
   "id": "05adb9c9",
   "metadata": {},
   "source": [
    "### Load\n",
    "Pada bagian load ini, data yang sudah ditransformasi sedemikian rupa sehingga sesuai dengan kebutuhan tim analyst dimasukkan kembali ke database yaitu Data Warehouse (DWH). Biasanya, dilakukan pendefinisian skema database terlebih dahulu seperti:\n",
    "\n",
    "Nama kolom\n",
    "Tipe kolom\n",
    "Apakah primary key, unique key, index atau bukan\n",
    "Panjang kolomnya\n",
    "Karena umumnya Data Warehouse merupakan database yang terstruktur sehingga mereka memerlukan skema sebelum datanya dimasukkan.\n",
    "\n",
    "Pandas sudah menyediakan fungsi untuk memasukkan data ke database yaitu to_sql().\n",
    "\n",
    "Detail dari fungsi tersebut bisa dilihat pada dokumentasi Pandas: https://pandas.pydata.org/docs/reference/api/pandas.DataFrame.to_sql.html"
   ]
  },
  {
   "cell_type": "code",
   "execution_count": null,
   "id": "2376022f",
   "metadata": {},
   "outputs": [],
   "source": []
  }
 ],
 "metadata": {
  "kernelspec": {
   "display_name": "Python [conda env:jcopml]",
   "language": "python",
   "name": "conda-env-jcopml-py"
  },
  "language_info": {
   "codemirror_mode": {
    "name": "ipython",
    "version": 3
   },
   "file_extension": ".py",
   "mimetype": "text/x-python",
   "name": "python",
   "nbconvert_exporter": "python",
   "pygments_lexer": "ipython3",
   "version": "3.7.6"
  },
  "varInspector": {
   "cols": {
    "lenName": 16,
    "lenType": 16,
    "lenVar": 40
   },
   "kernels_config": {
    "python": {
     "delete_cmd_postfix": "",
     "delete_cmd_prefix": "del ",
     "library": "var_list.py",
     "varRefreshCmd": "print(var_dic_list())"
    },
    "r": {
     "delete_cmd_postfix": ") ",
     "delete_cmd_prefix": "rm(",
     "library": "var_list.r",
     "varRefreshCmd": "cat(var_dic_list()) "
    }
   },
   "types_to_exclude": [
    "module",
    "function",
    "builtin_function_or_method",
    "instance",
    "_Feature"
   ],
   "window_display": false
  }
 },
 "nbformat": 4,
 "nbformat_minor": 5
}
